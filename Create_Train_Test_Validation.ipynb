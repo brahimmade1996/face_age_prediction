{
 "cells": [
  {
   "cell_type": "markdown",
   "metadata": {},
   "source": [
    "# Creating the Train and Test\n",
    "\n",
    "After categorizing our data we need to create our train and validation sets, a test set is optional but we can always try new images later. Run the cells below to create the sets and you can modify the directories or change the size ratios. It's better to keep the train set above 80% since there are many images."
   ]
  },
  {
   "cell_type": "code",
   "execution_count": 11,
   "metadata": {},
   "outputs": [],
   "source": [
    "import os\n",
    "import shutil\n",
    "import pandas as pd\n",
    "import numpy as np"
   ]
  },
  {
   "cell_type": "code",
   "execution_count": 24,
   "metadata": {},
   "outputs": [],
   "source": [
    "os.mkdir('Face_Age_Train_Val_Test') # create the directory to store the sets"
   ]
  },
  {
   "cell_type": "code",
   "execution_count": 25,
   "metadata": {},
   "outputs": [],
   "source": [
    "src_root = os.path.join(os.getcwd(), 'Face_Age_Dataset/') # this is where the images comes from\n",
    "root_dir = os.path.join(os.getcwd(), 'Face_Age_Train_Val_Test/') # this is where the images are stored"
   ]
  },
  {
   "cell_type": "code",
   "execution_count": 26,
   "metadata": {},
   "outputs": [],
   "source": [
    "def train_test_val_split(val_ratio, test_ratio):\n",
    "    '''\n",
    "    This function is used to split the data into train, validation and test sets.\n",
    "    INPUTS:\n",
    "    val_ratio - the proportion you would like to set the validation set to be, e.g. 0.15 = 15%\n",
    "    test_ratio - the proportion you would like to set the test set to be\n",
    "    '''\n",
    "    classes_dir = ['0-4', '5-9', '10-14', '15-19', '20-24', '25-29', '30-34',\n",
    "                   '35-39','40-44', '45-49', '50-54', '55-59', '60-64', '65+']\n",
    "\n",
    "    for cls in classes_dir:\n",
    "        os.makedirs(root_dir +'/train' + '/' + cls)\n",
    "        os.makedirs(root_dir +'/valid' + '/' + cls)\n",
    "        os.makedirs(root_dir +'/test' + '/' + cls)\n",
    "\n",
    "\n",
    "        # Creating partitions of the data after shuffling\n",
    "        src = src_root + '/' + cls # Folder to copy images from\n",
    "\n",
    "        allFileNames = os.listdir(src)\n",
    "        np.random.shuffle(allFileNames)\n",
    "        train_FileNames, val_FileNames, test_FileNames = np.split(np.array(allFileNames),\n",
    "                                                                  [int(len(allFileNames) * (1 - (val_ratio + test_ratio))), \n",
    "                                                                   int(len(allFileNames) * (1 - test_ratio))])\n",
    "\n",
    "\n",
    "        train_FileNames = [src+'/'+ name for name in train_FileNames.tolist()]\n",
    "        val_FileNames = [src+'/' + name for name in val_FileNames.tolist()]\n",
    "        test_FileNames = [src+'/' + name for name in test_FileNames.tolist()]\n",
    "\n",
    "        print('Total images: ', len(allFileNames))\n",
    "        print('Training: ', len(train_FileNames))\n",
    "        print('Validation: ', len(val_FileNames))\n",
    "        print('Testing: ', len(test_FileNames))\n",
    "\n",
    "        # Copy-pasting images\n",
    "        for name in train_FileNames:\n",
    "            shutil.copy(name, root_dir +'/train' + '/' + cls)\n",
    "\n",
    "        for name in val_FileNames:\n",
    "            shutil.copy(name, root_dir +'/valid' + '/' + cls)\n",
    "\n",
    "        for name in test_FileNames:\n",
    "            shutil.copy(name, root_dir +'/test' + '/' + cls)\n"
   ]
  },
  {
   "cell_type": "code",
   "execution_count": 27,
   "metadata": {},
   "outputs": [
    {
     "name": "stdout",
     "output_type": "stream",
     "text": [
      "Total images:  4254\n",
      "Training:  3403\n",
      "Validation:  638\n",
      "Testing:  213\n",
      "Total images:  1628\n",
      "Training:  1302\n",
      "Validation:  244\n",
      "Testing:  82\n",
      "Total images:  1042\n",
      "Training:  833\n",
      "Validation:  156\n",
      "Testing:  53\n",
      "Total images:  1394\n",
      "Training:  1115\n",
      "Validation:  209\n",
      "Testing:  70\n",
      "Total images:  1317\n",
      "Training:  1053\n",
      "Validation:  198\n",
      "Testing:  66\n",
      "Total images:  1713\n",
      "Training:  1370\n",
      "Validation:  257\n",
      "Testing:  86\n",
      "Total images:  960\n",
      "Training:  768\n",
      "Validation:  144\n",
      "Testing:  48\n",
      "Total images:  1108\n",
      "Training:  886\n",
      "Validation:  166\n",
      "Testing:  56\n",
      "Total images:  608\n",
      "Training:  486\n",
      "Validation:  91\n",
      "Testing:  31\n",
      "Total images:  742\n",
      "Training:  593\n",
      "Validation:  111\n",
      "Testing:  38\n",
      "Total images:  1078\n",
      "Training:  862\n",
      "Validation:  162\n",
      "Testing:  54\n",
      "Total images:  798\n",
      "Training:  638\n",
      "Validation:  120\n",
      "Testing:  40\n",
      "Total images:  678\n",
      "Training:  542\n",
      "Validation:  102\n",
      "Testing:  34\n",
      "Total images:  1950\n",
      "Training:  1560\n",
      "Validation:  292\n",
      "Testing:  98\n"
     ]
    }
   ],
   "source": [
    "train_test_val_split(0.15,0.05)"
   ]
  }
 ],
 "metadata": {
  "kernelspec": {
   "display_name": "Python 3",
   "language": "python",
   "name": "python3"
  },
  "language_info": {
   "codemirror_mode": {
    "name": "ipython",
    "version": 3
   },
   "file_extension": ".py",
   "mimetype": "text/x-python",
   "name": "python",
   "nbconvert_exporter": "python",
   "pygments_lexer": "ipython3",
   "version": "3.7.7"
  }
 },
 "nbformat": 4,
 "nbformat_minor": 4
}
